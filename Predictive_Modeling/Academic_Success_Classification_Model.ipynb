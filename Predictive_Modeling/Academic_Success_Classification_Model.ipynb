{
 "cells": [
  {
   "cell_type": "markdown",
   "metadata": {},
   "source": [
    "# Academic Success Classification Model"
   ]
  },
  {
   "cell_type": "markdown",
   "metadata": {},
   "source": [
    "***"
   ]
  },
  {
   "cell_type": "markdown",
   "metadata": {},
   "source": [
    "### Predictive Modeling"
   ]
  },
  {
   "cell_type": "code",
   "execution_count": 1,
   "metadata": {},
   "outputs": [],
   "source": [
    "# Improting needed Libraries\n",
    "\n",
    "import pandas as pd\n",
    "import numpy as np\n",
    "from sklearn.preprocessing import LabelEncoder\n",
    "from sklearn.model_selection import train_test_split\n",
    "from sklearn.metrics import accuracy_score, classification_report\n",
    "from catboost import CatBoostClassifier\n",
    "from xgboost import XGBClassifier\n",
    "from sklearn.ensemble import HistGradientBoostingClassifier\n",
    "from sklearn.ensemble import GradientBoostingClassifier"
   ]
  },
  {
   "cell_type": "code",
   "execution_count": 3,
   "metadata": {},
   "outputs": [],
   "source": [
    "# Load Data\n",
    "\n",
    "train_data = pd.read_csv('train.csv')\n",
    "test_data = pd.read_csv('test.csv')\n"
   ]
  },
  {
   "cell_type": "code",
   "execution_count": 4,
   "metadata": {},
   "outputs": [],
   "source": [
    "# Split features and target\n",
    "x = train_data.drop(columns=['id','Target'])\n",
    "y = train_data['Target']\n",
    "\n",
    "# Encode Target\n",
    "le = LabelEncoder()\n",
    "y = le.fit_transform(y)"
   ]
  },
  {
   "cell_type": "code",
   "execution_count": 5,
   "metadata": {},
   "outputs": [],
   "source": [
    "# Train-test split\n",
    "x_train, x_val, y_train, y_val = train_test_split(x, y, test_size= 0.2, random_state= 42, stratify= y)"
   ]
  },
  {
   "cell_type": "code",
   "execution_count": 7,
   "metadata": {},
   "outputs": [
    {
     "name": "stdout",
     "output_type": "stream",
     "text": [
      "CatBoost Accuracy:  0.8311552535284893\n",
      "CatBoost Classification Report:\n",
      "               precision    recall  f1-score   support\n",
      "\n",
      "           0       0.90      0.83      0.86      5059\n",
      "           1       0.66      0.60      0.62      2988\n",
      "           2       0.85      0.93      0.89      7257\n",
      "\n",
      "    accuracy                           0.83     15304\n",
      "   macro avg       0.80      0.79      0.79     15304\n",
      "weighted avg       0.83      0.83      0.83     15304\n",
      "\n"
     ]
    }
   ],
   "source": [
    "# CatBoostClassifier\n",
    "catBoost_model = CatBoostClassifier(verbose= 0, random_state= 42)\n",
    "catBoost_model.fit(x_train, y_train)\n",
    "catBoost_pred = catBoost_model.predict(x_val)\n",
    "\n",
    "# Evaluate CatBoost Model\n",
    "print('CatBoost Accuracy: ', accuracy_score(y_val, catBoost_pred))\n",
    "print('CatBoost Classification Report:\\n', classification_report(y_val, catBoost_pred))"
   ]
  },
  {
   "cell_type": "code",
   "execution_count": 8,
   "metadata": {},
   "outputs": [
    {
     "name": "stderr",
     "output_type": "stream",
     "text": [
      "C:\\Users\\HP\\AppData\\Local\\Packages\\PythonSoftwareFoundation.Python.3.11_qbz5n2kfra8p0\\LocalCache\\local-packages\\Python311\\site-packages\\xgboost\\core.py:158: UserWarning: [20:01:47] WARNING: C:\\buildkite-agent\\builds\\buildkite-windows-cpu-autoscaling-group-i-0c55ff5f71b100e98-1\\xgboost\\xgboost-ci-windows\\src\\learner.cc:740: \n",
      "Parameters: { \"use_label_encoder\" } are not used.\n",
      "\n",
      "  warnings.warn(smsg, UserWarning)\n"
     ]
    },
    {
     "name": "stdout",
     "output_type": "stream",
     "text": [
      "XGBoost Accuracy:  0.8297177208572922\n",
      "XGBoost Classification Report:\n",
      "               precision    recall  f1-score   support\n",
      "\n",
      "           0       0.89      0.83      0.86      5059\n",
      "           1       0.65      0.60      0.63      2988\n",
      "           2       0.85      0.92      0.89      7257\n",
      "\n",
      "    accuracy                           0.83     15304\n",
      "   macro avg       0.80      0.79      0.79     15304\n",
      "weighted avg       0.83      0.83      0.83     15304\n",
      "\n"
     ]
    }
   ],
   "source": [
    "# XGBoost Classifier\n",
    "xgBoost_model = XGBClassifier(use_label_encoder= False, eval_metric= 'logloss', random_state= 42)\n",
    "xgBoost_model.fit(x_train,y_train)\n",
    "xgBoost_pred = xgBoost_model.predict(x_val)\n",
    "\n",
    "# Evaluate XGBoost Model\n",
    "print('XGBoost Accuracy: ', accuracy_score(y_val, xgBoost_pred))\n",
    "print('XGBoost Classification Report:\\n', classification_report(y_val, xgBoost_pred))"
   ]
  },
  {
   "cell_type": "code",
   "execution_count": 9,
   "metadata": {},
   "outputs": [
    {
     "name": "stdout",
     "output_type": "stream",
     "text": [
      "HistGradientBoostingClassifier Accuracy:  0.8279534762153685\n",
      "HistGradientBoostingClassifier Classification Report: \n",
      "               precision    recall  f1-score   support\n",
      "\n",
      "           0       0.90      0.83      0.86      5059\n",
      "           1       0.65      0.60      0.62      2988\n",
      "           2       0.85      0.92      0.89      7257\n",
      "\n",
      "    accuracy                           0.83     15304\n",
      "   macro avg       0.80      0.78      0.79     15304\n",
      "weighted avg       0.83      0.83      0.83     15304\n",
      "\n"
     ]
    }
   ],
   "source": [
    "# We have recieved best accuracy score for both models, still we can try one more model.\n",
    "# HistGradientBoostingClassifier\n",
    "hist_model = HistGradientBoostingClassifier(random_state=42)\n",
    "hist_model.fit(x_train,y_train)\n",
    "hist_pred = hist_model.predict(x_val)\n",
    "\n",
    "# Evaluate Hist model\n",
    "print('HistGradientBoostingClassifier Accuracy: ', accuracy_score(y_val, hist_pred))\n",
    "print('HistGradientBoostingClassifier Classification Report: \\n', classification_report(y_val, hist_pred))"
   ]
  },
  {
   "cell_type": "code",
   "execution_count": 11,
   "metadata": {},
   "outputs": [
    {
     "name": "stderr",
     "output_type": "stream",
     "text": [
      "C:\\Users\\HP\\AppData\\Local\\Packages\\PythonSoftwareFoundation.Python.3.11_qbz5n2kfra8p0\\LocalCache\\local-packages\\Python311\\site-packages\\sklearn\\preprocessing\\_label.py:153: DataConversionWarning: A column-vector y was passed when a 1d array was expected. Please change the shape of y to (n_samples, ), for example using ravel().\n",
      "  y = column_or_1d(y, warn=True)\n"
     ]
    },
    {
     "data": {
      "text/plain": [
       "array(['Dropout', 'Graduate', 'Graduate', ..., 'Dropout', 'Dropout',\n",
       "       'Dropout'], dtype=object)"
      ]
     },
     "execution_count": 11,
     "metadata": {},
     "output_type": "execute_result"
    }
   ],
   "source": [
    "# We will use CatBoost model as we have recieved highest accuracy score from that model. \n",
    "test_vals = test_data.drop(columns=['id'])\n",
    "catBoost_test_pred = catBoost_model.predict(test_vals)\n",
    "\n",
    "catBoost_test_pred = le.inverse_transform(catBoost_test_pred)\n",
    "catBoost_test_pred"
   ]
  },
  {
   "cell_type": "code",
   "execution_count": 12,
   "metadata": {},
   "outputs": [
    {
     "data": {
      "text/html": [
       "<div>\n",
       "<style scoped>\n",
       "    .dataframe tbody tr th:only-of-type {\n",
       "        vertical-align: middle;\n",
       "    }\n",
       "\n",
       "    .dataframe tbody tr th {\n",
       "        vertical-align: top;\n",
       "    }\n",
       "\n",
       "    .dataframe thead th {\n",
       "        text-align: right;\n",
       "    }\n",
       "</style>\n",
       "<table border=\"1\" class=\"dataframe\">\n",
       "  <thead>\n",
       "    <tr style=\"text-align: right;\">\n",
       "      <th></th>\n",
       "      <th>id</th>\n",
       "      <th>Target</th>\n",
       "    </tr>\n",
       "  </thead>\n",
       "  <tbody>\n",
       "    <tr>\n",
       "      <th>0</th>\n",
       "      <td>76518</td>\n",
       "      <td>Dropout</td>\n",
       "    </tr>\n",
       "    <tr>\n",
       "      <th>1</th>\n",
       "      <td>76519</td>\n",
       "      <td>Graduate</td>\n",
       "    </tr>\n",
       "    <tr>\n",
       "      <th>2</th>\n",
       "      <td>76520</td>\n",
       "      <td>Graduate</td>\n",
       "    </tr>\n",
       "    <tr>\n",
       "      <th>3</th>\n",
       "      <td>76521</td>\n",
       "      <td>Graduate</td>\n",
       "    </tr>\n",
       "    <tr>\n",
       "      <th>4</th>\n",
       "      <td>76522</td>\n",
       "      <td>Enrolled</td>\n",
       "    </tr>\n",
       "  </tbody>\n",
       "</table>\n",
       "</div>"
      ],
      "text/plain": [
       "      id    Target\n",
       "0  76518   Dropout\n",
       "1  76519  Graduate\n",
       "2  76520  Graduate\n",
       "3  76521  Graduate\n",
       "4  76522  Enrolled"
      ]
     },
     "execution_count": 12,
     "metadata": {},
     "output_type": "execute_result"
    }
   ],
   "source": [
    "output = pd.DataFrame({'id': test_data['id'], 'Target': catBoost_test_pred})\n",
    "output.head()"
   ]
  },
  {
   "cell_type": "code",
   "execution_count": 13,
   "metadata": {},
   "outputs": [],
   "source": [
    "output.to_csv('submission.csv',index= False)"
   ]
  },
  {
   "cell_type": "markdown",
   "metadata": {},
   "source": [
    "***"
   ]
  },
  {
   "cell_type": "markdown",
   "metadata": {},
   "source": []
  }
 ],
 "metadata": {
  "kernelspec": {
   "display_name": "Python 3",
   "language": "python",
   "name": "python3"
  },
  "language_info": {
   "codemirror_mode": {
    "name": "ipython",
    "version": 3
   },
   "file_extension": ".py",
   "mimetype": "text/x-python",
   "name": "python",
   "nbconvert_exporter": "python",
   "pygments_lexer": "ipython3",
   "version": "3.11.9"
  }
 },
 "nbformat": 4,
 "nbformat_minor": 2
}
